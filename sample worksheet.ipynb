{
 "cells": [
  {
   "cell_type": "code",
   "execution_count": 3,
   "id": "450dc3cf",
   "metadata": {},
   "outputs": [
    {
     "data": {
      "text/plain": [
       "array([[11, 12, 13, 14],\n",
       "       [21, 22, 23, 24],\n",
       "       [31, 32, 33, 34]])"
      ]
     },
     "execution_count": 3,
     "metadata": {},
     "output_type": "execute_result"
    }
   ],
   "source": [
    "input_1 = [[11,12,13,14],\n",
    "           [21,22,23,24],\n",
    "           [31,32,33,34]]\n",
    "\n",
    "import numpy as np\n",
    "array_2d = np.array(input_1)\n",
    "array_2d"
   ]
  },
  {
   "cell_type": "markdown",
   "id": "c7e260d4",
   "metadata": {},
   "source": [
    "# First column of the input array, first row of the input array, last column of the input array, last row of the input array respectively."
   ]
  },
  {
   "cell_type": "code",
   "execution_count": 17,
   "id": "b90f98fb",
   "metadata": {},
   "outputs": [
    {
     "name": "stdout",
     "output_type": "stream",
     "text": [
      "[11 21 31]\n",
      "[11 12 13 14]\n",
      "[14 24 34]\n",
      "[31 32 33 34]\n"
     ]
    }
   ],
   "source": [
    "col_first = array_2d[ : ,0]\n",
    "row_first = array_2d[0]\n",
    "col_last =  array_2d[ : ,-1]\n",
    "row_last =  array_2d[-1]\n",
    "print(col_first)\n",
    "print(row_first)\n",
    "print(col_last)\n",
    "print(row_last)\n"
   ]
  },
  {
   "cell_type": "code",
   "execution_count": 15,
   "id": "66964617",
   "metadata": {},
   "outputs": [],
   "source": [
    "import pandas as pd"
   ]
  },
  {
   "cell_type": "code",
   "execution_count": 19,
   "id": "96c5c418",
   "metadata": {},
   "outputs": [],
   "source": [
    "marks = pd.read_csv(r\"C:\\Users\\Yoga\\Downloads\\class-grades.csv\")"
   ]
  },
  {
   "cell_type": "code",
   "execution_count": 21,
   "id": "b9bc4af5",
   "metadata": {},
   "outputs": [
    {
     "data": {
      "text/plain": [
       "<bound method DataFrame.info of     Prefix  Assignment  Tutorial  Midterm  TakeHome  Final\n",
       "0        5       57.14     34.09    64.38     51.48  52.50\n",
       "1        8       95.05    105.49    67.50     99.07  68.33\n",
       "2        8       83.70     83.17    30.00     63.15  48.89\n",
       "3        7       81.22     96.06    49.38    105.93  80.56\n",
       "4        8       91.32     93.64    95.00    107.41  73.89\n",
       "..     ...         ...       ...      ...       ...    ...\n",
       "94       8       96.73    103.71    45.00     93.52  61.94\n",
       "95       7       85.34     80.54    41.25     93.70  39.72\n",
       "96       8       89.94    102.77    87.50     90.74  87.78\n",
       "97       7       95.60     76.13    66.25     99.81  85.56\n",
       "98       8       63.40     97.37    73.12     72.78  77.22\n",
       "\n",
       "[99 rows x 6 columns]>"
      ]
     },
     "execution_count": 21,
     "metadata": {},
     "output_type": "execute_result"
    }
   ],
   "source": [
    "marks.info"
   ]
  },
  {
   "cell_type": "code",
   "execution_count": 22,
   "id": "f3459fe3",
   "metadata": {},
   "outputs": [
    {
     "data": {
      "text/html": [
       "<div>\n",
       "<style scoped>\n",
       "    .dataframe tbody tr th:only-of-type {\n",
       "        vertical-align: middle;\n",
       "    }\n",
       "\n",
       "    .dataframe tbody tr th {\n",
       "        vertical-align: top;\n",
       "    }\n",
       "\n",
       "    .dataframe thead th {\n",
       "        text-align: right;\n",
       "    }\n",
       "</style>\n",
       "<table border=\"1\" class=\"dataframe\">\n",
       "  <thead>\n",
       "    <tr style=\"text-align: right;\">\n",
       "      <th></th>\n",
       "      <th>Prefix</th>\n",
       "      <th>Assignment</th>\n",
       "      <th>Tutorial</th>\n",
       "      <th>Midterm</th>\n",
       "      <th>TakeHome</th>\n",
       "      <th>Final</th>\n",
       "    </tr>\n",
       "  </thead>\n",
       "  <tbody>\n",
       "    <tr>\n",
       "      <th>0</th>\n",
       "      <td>5</td>\n",
       "      <td>57.14</td>\n",
       "      <td>34.09</td>\n",
       "      <td>64.38</td>\n",
       "      <td>51.48</td>\n",
       "      <td>52.50</td>\n",
       "    </tr>\n",
       "    <tr>\n",
       "      <th>1</th>\n",
       "      <td>8</td>\n",
       "      <td>95.05</td>\n",
       "      <td>105.49</td>\n",
       "      <td>67.50</td>\n",
       "      <td>99.07</td>\n",
       "      <td>68.33</td>\n",
       "    </tr>\n",
       "    <tr>\n",
       "      <th>2</th>\n",
       "      <td>8</td>\n",
       "      <td>83.70</td>\n",
       "      <td>83.17</td>\n",
       "      <td>30.00</td>\n",
       "      <td>63.15</td>\n",
       "      <td>48.89</td>\n",
       "    </tr>\n",
       "    <tr>\n",
       "      <th>3</th>\n",
       "      <td>7</td>\n",
       "      <td>81.22</td>\n",
       "      <td>96.06</td>\n",
       "      <td>49.38</td>\n",
       "      <td>105.93</td>\n",
       "      <td>80.56</td>\n",
       "    </tr>\n",
       "    <tr>\n",
       "      <th>4</th>\n",
       "      <td>8</td>\n",
       "      <td>91.32</td>\n",
       "      <td>93.64</td>\n",
       "      <td>95.00</td>\n",
       "      <td>107.41</td>\n",
       "      <td>73.89</td>\n",
       "    </tr>\n",
       "    <tr>\n",
       "      <th>...</th>\n",
       "      <td>...</td>\n",
       "      <td>...</td>\n",
       "      <td>...</td>\n",
       "      <td>...</td>\n",
       "      <td>...</td>\n",
       "      <td>...</td>\n",
       "    </tr>\n",
       "    <tr>\n",
       "      <th>94</th>\n",
       "      <td>8</td>\n",
       "      <td>96.73</td>\n",
       "      <td>103.71</td>\n",
       "      <td>45.00</td>\n",
       "      <td>93.52</td>\n",
       "      <td>61.94</td>\n",
       "    </tr>\n",
       "    <tr>\n",
       "      <th>95</th>\n",
       "      <td>7</td>\n",
       "      <td>85.34</td>\n",
       "      <td>80.54</td>\n",
       "      <td>41.25</td>\n",
       "      <td>93.70</td>\n",
       "      <td>39.72</td>\n",
       "    </tr>\n",
       "    <tr>\n",
       "      <th>96</th>\n",
       "      <td>8</td>\n",
       "      <td>89.94</td>\n",
       "      <td>102.77</td>\n",
       "      <td>87.50</td>\n",
       "      <td>90.74</td>\n",
       "      <td>87.78</td>\n",
       "    </tr>\n",
       "    <tr>\n",
       "      <th>97</th>\n",
       "      <td>7</td>\n",
       "      <td>95.60</td>\n",
       "      <td>76.13</td>\n",
       "      <td>66.25</td>\n",
       "      <td>99.81</td>\n",
       "      <td>85.56</td>\n",
       "    </tr>\n",
       "    <tr>\n",
       "      <th>98</th>\n",
       "      <td>8</td>\n",
       "      <td>63.40</td>\n",
       "      <td>97.37</td>\n",
       "      <td>73.12</td>\n",
       "      <td>72.78</td>\n",
       "      <td>77.22</td>\n",
       "    </tr>\n",
       "  </tbody>\n",
       "</table>\n",
       "<p>87 rows × 6 columns</p>\n",
       "</div>"
      ],
      "text/plain": [
       "    Prefix  Assignment  Tutorial  Midterm  TakeHome  Final\n",
       "0        5       57.14     34.09    64.38     51.48  52.50\n",
       "1        8       95.05    105.49    67.50     99.07  68.33\n",
       "2        8       83.70     83.17    30.00     63.15  48.89\n",
       "3        7       81.22     96.06    49.38    105.93  80.56\n",
       "4        8       91.32     93.64    95.00    107.41  73.89\n",
       "..     ...         ...       ...      ...       ...    ...\n",
       "94       8       96.73    103.71    45.00     93.52  61.94\n",
       "95       7       85.34     80.54    41.25     93.70  39.72\n",
       "96       8       89.94    102.77    87.50     90.74  87.78\n",
       "97       7       95.60     76.13    66.25     99.81  85.56\n",
       "98       8       63.40     97.37    73.12     72.78  77.22\n",
       "\n",
       "[87 rows x 6 columns]"
      ]
     },
     "execution_count": 22,
     "metadata": {},
     "output_type": "execute_result"
    }
   ],
   "source": [
    "marks.dropna(axis=0,thresh=5)"
   ]
  },
  {
   "cell_type": "code",
   "execution_count": 24,
   "id": "dd9859b7",
   "metadata": {},
   "outputs": [
    {
     "data": {
      "text/plain": [
       "Prefix         0\n",
       "Assignment     2\n",
       "Tutorial      12\n",
       "Midterm       16\n",
       "TakeHome       9\n",
       "Final          5\n",
       "dtype: int64"
      ]
     },
     "execution_count": 24,
     "metadata": {},
     "output_type": "execute_result"
    }
   ],
   "source": [
    "marks.isnull().sum(axis=0)"
   ]
  },
  {
   "cell_type": "code",
   "execution_count": null,
   "id": "ec189805",
   "metadata": {},
   "outputs": [],
   "source": []
  }
 ],
 "metadata": {
  "kernelspec": {
   "display_name": "Python 3 (ipykernel)",
   "language": "python",
   "name": "python3"
  },
  "language_info": {
   "codemirror_mode": {
    "name": "ipython",
    "version": 3
   },
   "file_extension": ".py",
   "mimetype": "text/x-python",
   "name": "python",
   "nbconvert_exporter": "python",
   "pygments_lexer": "ipython3",
   "version": "3.9.12"
  }
 },
 "nbformat": 4,
 "nbformat_minor": 5
}
